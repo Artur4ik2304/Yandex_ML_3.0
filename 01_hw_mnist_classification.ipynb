{
  "cells": [
    {
      "cell_type": "markdown",
      "metadata": {
        "id": "S-2tHaJDwMJp"
      },
      "source": [
        "## Классификация MNIST\n",
        "\n",
        "##### Автор: [Радослав Нейчев](https://www.linkedin.com/in/radoslav-neychev/), https://t.me/s/girafe_ai"
      ]
    },
    {
      "cell_type": "code",
      "execution_count": 1,
      "metadata": {
        "id": "QSzmiivYwMJq"
      },
      "outputs": [],
      "source": [
        "import numpy as np\n",
        "\n",
        "import torch\n",
        "from torch import nn\n",
        "from torch.nn import functional as F\n",
        "\n",
        "import torchvision\n",
        "from torchvision.datasets import MNIST\n",
        "\n",
        "from matplotlib import pyplot as plt\n",
        "from IPython.display import clear_output"
      ]
    },
    {
      "cell_type": "markdown",
      "metadata": {
        "id": "Ca5mG59qwMJr"
      },
      "source": [
        "Давайте обратимся к классической задаче распознавания рукописных цифр. Мы будем работать с набором данных [MNIST](http://yann.lecun.com/exdb/mnist/). В этом задании мы воспользуемся всем датасетом целиком.\n",
        "\n",
        "__Ваша основная задача: реализовать весь пайплайн обучения модели и добиться качества $\\geq 92\\%$ на тестовой выборке.__\n",
        "\n",
        "Код для обучения модели в данном задании отсутствует. Присутствует лишь несколько тестов, которые помогут вам отладить свое решение. За примером можно обратиться к ноутбуку с первого занятия.\n",
        "\n",
        "Мы настоятельно рекомендуем писать код «с нуля», лишь изредка подглядывая в готовые примеры, а не просто «копировать-вставлять». Это поможет вам в будущем."
      ]
    },
    {
      "cell_type": "code",
      "execution_count": 2,
      "metadata": {
        "colab": {
          "base_uri": "https://localhost:8080/",
          "height": 537
        },
        "id": "QKb1SpOuwMJr",
        "outputId": "5c4daacb-7bc9-445e-ce32-600043143875"
      },
      "outputs": [
        {
          "output_type": "stream",
          "name": "stderr",
          "text": [
            "100%|██████████| 9.91M/9.91M [00:00<00:00, 16.3MB/s]\n",
            "100%|██████████| 28.9k/28.9k [00:00<00:00, 435kB/s]\n",
            "100%|██████████| 1.65M/1.65M [00:00<00:00, 4.03MB/s]\n",
            "100%|██████████| 4.54k/4.54k [00:00<00:00, 4.75MB/s]\n"
          ]
        },
        {
          "output_type": "execute_result",
          "data": {
            "text/plain": [
              "Text(0.5, 1.0, 'Image label: 4')"
            ]
          },
          "metadata": {},
          "execution_count": 2
        },
        {
          "output_type": "display_data",
          "data": {
            "text/plain": [
              "<Figure size 640x480 with 1 Axes>"
            ],
            "image/png": "[encoded data removed]"
          },
          "metadata": {}
        }
      ],
      "source": [
        "# do not change the code in the block below\n",
        "# __________start of block__________\n",
        "\n",
        "train_mnist_data = MNIST('.', train=True, transform=torchvision.transforms.ToTensor(), download=True)\n",
        "test_mnist_data = MNIST('.', train=False, transform=torchvision.transforms.ToTensor(), download=True)\n",
        "\n",
        "\n",
        "train_data_loader = torch.utils.data.DataLoader(\n",
        "    train_mnist_data,\n",
        "    batch_size=32,\n",
        "    shuffle=True,\n",
        "    num_workers=2\n",
        ")\n",
        "\n",
        "test_data_loader = torch.utils.data.DataLoader(\n",
        "    test_mnist_data,\n",
        "    batch_size=32,\n",
        "    shuffle=False,\n",
        "    num_workers=2\n",
        ")\n",
        "\n",
        "random_batch = next(iter(train_data_loader))\n",
        "_image, _label = random_batch[0][0], random_batch[1][0]\n",
        "plt.figure()\n",
        "plt.imshow(_image.reshape(28, 28))\n",
        "plt.title(f'Image label: {_label}')\n",
        "# __________end of block__________"
      ]
    },
    {
      "cell_type": "markdown",
      "metadata": {
        "id": "oR89oa97wMJr"
      },
      "source": [
        "Постройте модель, представленную ниже. Пожалуйста, не создавайте чрезмерно сложную сеть — она не должна быть глубже четырёх слоёв (можно и меньше). Ваша основная задача — обучить модель и добиться как минимум 92% точности на тестовой выборке (hold-out выборке).\n",
        "\n",
        "*Примечание: линейных слоёв и функций активации должно быть достаточно.*\n",
        "\n",
        "__Обратите внимание, ваша модель должна быть представлена переменной `model`__"
      ]
    },
    {
      "cell_type": "code",
      "source": [
        "random_batch[0].size()"
      ],
      "metadata": {
        "colab": {
          "base_uri": "https://localhost:8080/"
        },
        "id": "FkBmoJdZ2G8k",
        "outputId": "bf77a915-d6b3-451e-9dfb-2d7aa1b20575"
      },
      "execution_count": 3,
      "outputs": [
        {
          "output_type": "execute_result",
          "data": {
            "text/plain": [
              "torch.Size([32, 1, 28, 28])"
            ]
          },
          "metadata": {},
          "execution_count": 3
        }
      ]
    },
    {
      "cell_type": "code",
      "execution_count": 16,
      "metadata": {
        "id": "gsC3UZTTwMJr"
      },
      "outputs": [],
      "source": [
        "# Creating model instance\n",
        "class MyCNN(nn.Module):\n",
        "  def __init__(self):\n",
        "    super().__init__()\n",
        "    self.conv1 = nn.Conv2d(1, 5, 3)\n",
        "    self.conv2 = nn.Conv2d(5, 10, 3)\n",
        "    self.pool = nn.MaxPool2d(2, 2)\n",
        "    self.m = nn.Flatten()\n",
        "    self.fc1 = nn.Linear(10 * 5 * 5, 500)\n",
        "    self.fc2 = nn.Linear(500, 10)\n",
        "  def forward(self, x):\n",
        "    x = x.view(-1, 1, 28, 28)\n",
        "    x = self.pool(F.relu(self.conv1(x)))\n",
        "    x = self.pool(F.relu(self.conv2(x)))\n",
        "    x = self.m(x)\n",
        "    x = F.relu(self.fc1(x))\n",
        "    x = self.fc2(x)\n",
        "    return x\n",
        "model = MyCNN() # your code here"
      ]
    },
    {
      "cell_type": "markdown",
      "metadata": {
        "id": "LQfD-qhnwMJs"
      },
      "source": [
        "Ниже доступны локальные тесты для проверки вашей модели:"
      ]
    },
    {
      "cell_type": "code",
      "execution_count": 17,
      "metadata": {
        "colab": {
          "base_uri": "https://localhost:8080/"
        },
        "id": "LgiJeiXzwMJs",
        "outputId": "792a2faa-b685-4193-c533-9f375f3cb8a1"
      },
      "outputs": [
        {
          "output_type": "stream",
          "name": "stdout",
          "text": [
            "Everything seems fine!\n"
          ]
        }
      ],
      "source": [
        "# do not change the code in the block below\n",
        "# __________start of block__________\n",
        "assert model is not None, 'Please, use `model` variable to store your model'\n",
        "\n",
        "try:\n",
        "    x = random_batch[0].reshape(-1, 784)\n",
        "    y = random_batch[1]\n",
        "    # compute outputs given inputs, both are variables\n",
        "    y_predicted = model(x)\n",
        "except Exception as e:\n",
        "    print('Something is wrong with the model')\n",
        "    raise e\n",
        "\n",
        "\n",
        "assert y_predicted.shape[-1] == 10, 'Model should predict 10 logits/probas'\n",
        "\n",
        "print('Everything seems fine!')\n",
        "# __________end of block__________"
      ]
    },
    {
      "cell_type": "markdown",
      "metadata": {
        "id": "_JWrIrgvwMJs"
      },
      "source": [
        "Обучите модель на обучающей выборке. Рекомендуем поэкспериментировать с различными оптимизаторами.\n"
      ]
    },
    {
      "cell_type": "code",
      "execution_count": 18,
      "metadata": {
        "id": "lV9ghhbEwMJs"
      },
      "outputs": [],
      "source": [
        "# your code here\n",
        "loss_fn = torch.nn.CrossEntropyLoss()\n",
        "optimizer = torch.optim.SGD(model.parameters(), lr=0.001, momentum=0.9)"
      ]
    },
    {
      "cell_type": "code",
      "source": [
        "total_step = len(train_data_loader)\n",
        "loss_list = []\n",
        "acc_list = []\n",
        "for epoch in range(5):\n",
        "    for i, (images, labels) in enumerate(train_data_loader):\n",
        "        # Прямой запуск\n",
        "        outputs = model(images)\n",
        "        loss = loss_fn(outputs, labels)\n",
        "        loss_list.append(loss.item())\n",
        "\n",
        "        # Обратное распространение и оптимизатор\n",
        "        optimizer.zero_grad()\n",
        "        loss.backward()\n",
        "        optimizer.step()\n",
        "\n",
        "        # Отслеживание точности\n",
        "        total = labels.size(0)\n",
        "        _, predicted = torch.max(outputs.data, 1)\n",
        "        correct = (predicted == labels).sum().item()\n",
        "        acc_list.append(correct / total)\n",
        "\n",
        "        if (i + 1) % 100 == 0:\n",
        "            print('Epoch [{}/{}], Step [{}/{}], Loss: {:.4f}, Accuracy: {:.2f}%'\n",
        "                  .format(epoch + 1, 5, i + 1, total_step, loss.item(),\n",
        "                          (correct / total) * 100))"
      ],
      "metadata": {
        "id": "tb2MQNc-A_J0",
        "outputId": "366daf72-2a8c-489d-843e-b5de97b711b8",
        "colab": {
          "base_uri": "https://localhost:8080/"
        }
      },
      "execution_count": 19,
      "outputs": [
        {
          "output_type": "stream",
          "name": "stdout",
          "text": [
            "Epoch [1/5], Step [100/1875], Loss: 2.2546, Accuracy: 28.12%\n",
            "Epoch [1/5], Step [200/1875], Loss: 2.1122, Accuracy: 50.00%\n",
            "Epoch [1/5], Step [300/1875], Loss: 1.5950, Accuracy: 59.38%\n",
            "Epoch [1/5], Step [400/1875], Loss: 0.6146, Accuracy: 81.25%\n",
            "Epoch [1/5], Step [500/1875], Loss: 0.4226, Accuracy: 90.62%\n",
            "Epoch [1/5], Step [600/1875], Loss: 0.3309, Accuracy: 90.62%\n",
            "Epoch [1/5], Step [700/1875], Loss: 0.2732, Accuracy: 93.75%\n",
            "Epoch [1/5], Step [800/1875], Loss: 0.1466, Accuracy: 96.88%\n",
            "Epoch [1/5], Step [900/1875], Loss: 0.4334, Accuracy: 87.50%\n",
            "Epoch [1/5], Step [1000/1875], Loss: 0.4677, Accuracy: 90.62%\n",
            "Epoch [1/5], Step [1100/1875], Loss: 0.2076, Accuracy: 93.75%\n",
            "Epoch [1/5], Step [1200/1875], Loss: 0.1633, Accuracy: 96.88%\n",
            "Epoch [1/5], Step [1300/1875], Loss: 0.2752, Accuracy: 87.50%\n",
            "Epoch [1/5], Step [1400/1875], Loss: 0.2121, Accuracy: 90.62%\n",
            "Epoch [1/5], Step [1500/1875], Loss: 0.2712, Accuracy: 90.62%\n",
            "Epoch [1/5], Step [1600/1875], Loss: 0.2253, Accuracy: 90.62%\n",
            "Epoch [1/5], Step [1700/1875], Loss: 0.1955, Accuracy: 96.88%\n",
            "Epoch [1/5], Step [1800/1875], Loss: 0.2425, Accuracy: 93.75%\n",
            "Epoch [2/5], Step [100/1875], Loss: 0.2599, Accuracy: 87.50%\n",
            "Epoch [2/5], Step [200/1875], Loss: 0.2400, Accuracy: 96.88%\n",
            "Epoch [2/5], Step [300/1875], Loss: 0.3577, Accuracy: 90.62%\n",
            "Epoch [2/5], Step [400/1875], Loss: 0.1767, Accuracy: 93.75%\n",
            "Epoch [2/5], Step [500/1875], Loss: 0.1967, Accuracy: 87.50%\n",
            "Epoch [2/5], Step [600/1875], Loss: 0.2025, Accuracy: 90.62%\n",
            "Epoch [2/5], Step [700/1875], Loss: 0.1790, Accuracy: 93.75%\n",
            "Epoch [2/5], Step [800/1875], Loss: 0.2930, Accuracy: 93.75%\n",
            "Epoch [2/5], Step [900/1875], Loss: 0.0907, Accuracy: 96.88%\n",
            "Epoch [2/5], Step [1000/1875], Loss: 0.1824, Accuracy: 93.75%\n",
            "Epoch [2/5], Step [1100/1875], Loss: 0.2594, Accuracy: 90.62%\n",
            "Epoch [2/5], Step [1200/1875], Loss: 0.0354, Accuracy: 100.00%\n",
            "Epoch [2/5], Step [1300/1875], Loss: 0.0428, Accuracy: 100.00%\n",
            "Epoch [2/5], Step [1400/1875], Loss: 0.2779, Accuracy: 96.88%\n",
            "Epoch [2/5], Step [1500/1875], Loss: 0.0380, Accuracy: 96.88%\n",
            "Epoch [2/5], Step [1600/1875], Loss: 0.2295, Accuracy: 96.88%\n",
            "Epoch [2/5], Step [1700/1875], Loss: 0.0650, Accuracy: 96.88%\n",
            "Epoch [2/5], Step [1800/1875], Loss: 0.4880, Accuracy: 87.50%\n",
            "Epoch [3/5], Step [100/1875], Loss: 0.0114, Accuracy: 100.00%\n",
            "Epoch [3/5], Step [200/1875], Loss: 0.2462, Accuracy: 93.75%\n",
            "Epoch [3/5], Step [300/1875], Loss: 0.1087, Accuracy: 96.88%\n",
            "Epoch [3/5], Step [400/1875], Loss: 0.1095, Accuracy: 96.88%\n",
            "Epoch [3/5], Step [500/1875], Loss: 0.0869, Accuracy: 96.88%\n",
            "Epoch [3/5], Step [600/1875], Loss: 0.2591, Accuracy: 96.88%\n",
            "Epoch [3/5], Step [700/1875], Loss: 0.0126, Accuracy: 100.00%\n",
            "Epoch [3/5], Step [800/1875], Loss: 0.2256, Accuracy: 93.75%\n",
            "Epoch [3/5], Step [900/1875], Loss: 0.0138, Accuracy: 100.00%\n",
            "Epoch [3/5], Step [1000/1875], Loss: 0.0099, Accuracy: 100.00%\n",
            "Epoch [3/5], Step [1100/1875], Loss: 0.1678, Accuracy: 90.62%\n",
            "Epoch [3/5], Step [1200/1875], Loss: 0.1339, Accuracy: 93.75%\n",
            "Epoch [3/5], Step [1300/1875], Loss: 0.2035, Accuracy: 96.88%\n",
            "Epoch [3/5], Step [1400/1875], Loss: 0.1839, Accuracy: 90.62%\n",
            "Epoch [3/5], Step [1500/1875], Loss: 0.1223, Accuracy: 96.88%\n",
            "Epoch [3/5], Step [1600/1875], Loss: 0.0285, Accuracy: 100.00%\n",
            "Epoch [3/5], Step [1700/1875], Loss: 0.0171, Accuracy: 100.00%\n",
            "Epoch [3/5], Step [1800/1875], Loss: 0.1086, Accuracy: 96.88%\n",
            "Epoch [4/5], Step [100/1875], Loss: 0.0839, Accuracy: 96.88%\n",
            "Epoch [4/5], Step [200/1875], Loss: 0.3948, Accuracy: 90.62%\n",
            "Epoch [4/5], Step [300/1875], Loss: 0.0441, Accuracy: 100.00%\n",
            "Epoch [4/5], Step [400/1875], Loss: 0.0679, Accuracy: 96.88%\n",
            "Epoch [4/5], Step [500/1875], Loss: 0.0508, Accuracy: 100.00%\n",
            "Epoch [4/5], Step [600/1875], Loss: 0.1505, Accuracy: 90.62%\n",
            "Epoch [4/5], Step [700/1875], Loss: 0.0263, Accuracy: 100.00%\n",
            "Epoch [4/5], Step [800/1875], Loss: 0.1683, Accuracy: 93.75%\n",
            "Epoch [4/5], Step [900/1875], Loss: 0.1353, Accuracy: 93.75%\n",
            "Epoch [4/5], Step [1000/1875], Loss: 0.0072, Accuracy: 100.00%\n",
            "Epoch [4/5], Step [1100/1875], Loss: 0.0661, Accuracy: 96.88%\n",
            "Epoch [4/5], Step [1200/1875], Loss: 0.1776, Accuracy: 93.75%\n",
            "Epoch [4/5], Step [1300/1875], Loss: 0.0378, Accuracy: 100.00%\n",
            "Epoch [4/5], Step [1400/1875], Loss: 0.1261, Accuracy: 100.00%\n",
            "Epoch [4/5], Step [1500/1875], Loss: 0.1674, Accuracy: 96.88%\n",
            "Epoch [4/5], Step [1600/1875], Loss: 0.0690, Accuracy: 96.88%\n",
            "Epoch [4/5], Step [1700/1875], Loss: 0.2026, Accuracy: 90.62%\n",
            "Epoch [4/5], Step [1800/1875], Loss: 0.0323, Accuracy: 96.88%\n",
            "Epoch [5/5], Step [100/1875], Loss: 0.1156, Accuracy: 93.75%\n",
            "Epoch [5/5], Step [200/1875], Loss: 0.2164, Accuracy: 93.75%\n",
            "Epoch [5/5], Step [300/1875], Loss: 0.0334, Accuracy: 96.88%\n",
            "Epoch [5/5], Step [400/1875], Loss: 0.0274, Accuracy: 100.00%\n",
            "Epoch [5/5], Step [500/1875], Loss: 0.0108, Accuracy: 100.00%\n",
            "Epoch [5/5], Step [600/1875], Loss: 0.0149, Accuracy: 100.00%\n",
            "Epoch [5/5], Step [700/1875], Loss: 0.1182, Accuracy: 96.88%\n",
            "Epoch [5/5], Step [800/1875], Loss: 0.0606, Accuracy: 96.88%\n",
            "Epoch [5/5], Step [900/1875], Loss: 0.0309, Accuracy: 96.88%\n",
            "Epoch [5/5], Step [1000/1875], Loss: 0.0677, Accuracy: 96.88%\n",
            "Epoch [5/5], Step [1100/1875], Loss: 0.1435, Accuracy: 90.62%\n",
            "Epoch [5/5], Step [1200/1875], Loss: 0.1722, Accuracy: 90.62%\n",
            "Epoch [5/5], Step [1300/1875], Loss: 0.0340, Accuracy: 100.00%\n",
            "Epoch [5/5], Step [1400/1875], Loss: 0.0960, Accuracy: 96.88%\n",
            "Epoch [5/5], Step [1500/1875], Loss: 0.0644, Accuracy: 96.88%\n",
            "Epoch [5/5], Step [1600/1875], Loss: 0.0539, Accuracy: 96.88%\n",
            "Epoch [5/5], Step [1700/1875], Loss: 0.0849, Accuracy: 93.75%\n",
            "Epoch [5/5], Step [1800/1875], Loss: 0.0644, Accuracy: 96.88%\n"
          ]
        }
      ]
    },
    {
      "cell_type": "markdown",
      "metadata": {
        "id": "FI_JQFJnwMJs"
      },
      "source": [
        "Также помните, что вы всегда можете обратиться к отличной [документации](https://pytorch.org/docs/stable/index.html) и [учебным материалам](https://pytorch.org/tutorials/)."
      ]
    },
    {
      "cell_type": "markdown",
      "metadata": {
        "id": "ZsXegzaHwMJs"
      },
      "source": [
        "Оценим качество классификации:"
      ]
    },
    {
      "cell_type": "code",
      "execution_count": 20,
      "metadata": {
        "id": "2IuQhML7wMJs"
      },
      "outputs": [],
      "source": [
        "predicted_labels = []\n",
        "real_labels = []\n",
        "model.eval()\n",
        "with torch.no_grad():\n",
        "    for batch in train_data_loader:\n",
        "        y_predicted = model(batch[0].reshape(-1, 784))\n",
        "        predicted_labels.append(y_predicted.argmax(dim=1))\n",
        "        real_labels.append(batch[1])\n",
        "\n",
        "predicted_labels = torch.cat(predicted_labels)\n",
        "real_labels = torch.cat(real_labels)\n",
        "train_acc = (predicted_labels == real_labels).type(torch.FloatTensor).mean()"
      ]
    },
    {
      "cell_type": "code",
      "execution_count": 21,
      "metadata": {
        "colab": {
          "base_uri": "https://localhost:8080/"
        },
        "id": "hMIaAQaIwMJs",
        "outputId": "f773bcc7-f7e8-4a35-a26f-cf837035da97"
      },
      "outputs": [
        {
          "output_type": "stream",
          "name": "stdout",
          "text": [
            "Neural network accuracy on train set: 0.9776\n"
          ]
        }
      ],
      "source": [
        "print(f'Neural network accuracy on train set: {train_acc:3.5}')"
      ]
    },
    {
      "cell_type": "code",
      "execution_count": 22,
      "metadata": {
        "id": "XSIuaM4OwMJs"
      },
      "outputs": [],
      "source": [
        "predicted_labels = []\n",
        "real_labels = []\n",
        "model.eval()\n",
        "with torch.no_grad():\n",
        "    for batch in test_data_loader:\n",
        "        y_predicted = model(batch[0].reshape(-1, 784))\n",
        "        predicted_labels.append(y_predicted.argmax(dim=1))\n",
        "        real_labels.append(batch[1])\n",
        "\n",
        "predicted_labels = torch.cat(predicted_labels)\n",
        "real_labels = torch.cat(real_labels)\n",
        "test_acc = (predicted_labels == real_labels).type(torch.FloatTensor).mean()"
      ]
    },
    {
      "cell_type": "code",
      "execution_count": 23,
      "metadata": {
        "colab": {
          "base_uri": "https://localhost:8080/"
        },
        "id": "pAbogpAfwMJt",
        "outputId": "fd45a0d5-cf5b-48db-99e0-8eeeace28e64"
      },
      "outputs": [
        {
          "output_type": "stream",
          "name": "stdout",
          "text": [
            "Neural network accuracy on test set: 0.976\n"
          ]
        }
      ],
      "source": [
        "print(f'Neural network accuracy on test set: {test_acc:3.5}')"
      ]
    },
    {
      "cell_type": "markdown",
      "metadata": {
        "id": "55W8oEAuwMJt"
      },
      "source": [
        "Проверка, что пороги пройдены:"
      ]
    },
    {
      "cell_type": "code",
      "execution_count": 24,
      "metadata": {
        "id": "7JPBCSZCwMJt"
      },
      "outputs": [],
      "source": [
        "assert test_acc >= 0.92, 'Test accuracy is below 0.92 threshold'\n",
        "assert train_acc >= 0.91, 'Train accuracy is below 0.91 while test accuracy is fine. We recommend to check your model and data flow'"
      ]
    },
    {
      "cell_type": "markdown",
      "metadata": {
        "id": "wgBzZthlwMJt"
      },
      "source": [
        "Обращаем внимане, код ниже предполагает, что ваша модель имеет содержится в переменной `model`, а файл `hw_mnist_data_dict.npy` находится в той же директории, что и ноутбук (он доступен в репозитории)."
      ]
    },
    {
      "cell_type": "code",
      "execution_count": 25,
      "metadata": {
        "colab": {
          "base_uri": "https://localhost:8080/",
          "height": 207
        },
        "id": "syNVjh9qwMJt",
        "outputId": "27fd4d1c-0412-45f4-9ad6-f17009a39c87"
      },
      "outputs": [
        {
          "output_type": "error",
          "ename": "AssertionError",
          "evalue": "Please, download `hw_mnist_data_dict.npy` and place it in the working directory",
          "traceback": [
            "\u001b[0;31m---------------------------------------------------------------------------\u001b[0m",
            "\u001b[0;31mAssertionError\u001b[0m                            Traceback (most recent call last)",
            "\u001b[0;32m<ipython-input-25-05fd72269550>\u001b[0m in \u001b[0;36m<cell line: 0>\u001b[0;34m()\u001b[0m\n\u001b[1;32m      3\u001b[0m \u001b[0;32mimport\u001b[0m \u001b[0mos\u001b[0m\u001b[0;34m\u001b[0m\u001b[0;34m\u001b[0m\u001b[0m\n\u001b[1;32m      4\u001b[0m \u001b[0;32mimport\u001b[0m \u001b[0mjson\u001b[0m\u001b[0;34m\u001b[0m\u001b[0;34m\u001b[0m\u001b[0m\n\u001b[0;32m----> 5\u001b[0;31m \u001b[0;32massert\u001b[0m \u001b[0mos\u001b[0m\u001b[0;34m.\u001b[0m\u001b[0mpath\u001b[0m\u001b[0;34m.\u001b[0m\u001b[0mexists\u001b[0m\u001b[0;34m(\u001b[0m\u001b[0;34m'hw_mnist_data_dict.npy'\u001b[0m\u001b[0;34m)\u001b[0m\u001b[0;34m,\u001b[0m \u001b[0;34m'Please, download `hw_mnist_data_dict.npy` and place it in the working directory'\u001b[0m\u001b[0;34m\u001b[0m\u001b[0;34m\u001b[0m\u001b[0m\n\u001b[0m\u001b[1;32m      6\u001b[0m \u001b[0;34m\u001b[0m\u001b[0m\n\u001b[1;32m      7\u001b[0m \u001b[0;32mdef\u001b[0m \u001b[0mget_predictions\u001b[0m\u001b[0;34m(\u001b[0m\u001b[0mmodel\u001b[0m\u001b[0;34m,\u001b[0m \u001b[0meval_data\u001b[0m\u001b[0;34m,\u001b[0m \u001b[0mstep\u001b[0m\u001b[0;34m=\u001b[0m\u001b[0;36m10\u001b[0m\u001b[0;34m)\u001b[0m\u001b[0;34m:\u001b[0m\u001b[0;34m\u001b[0m\u001b[0;34m\u001b[0m\u001b[0m\n",
            "\u001b[0;31mAssertionError\u001b[0m: Please, download `hw_mnist_data_dict.npy` and place it in the working directory"
          ]
        }
      ],
      "source": [
        "# do not change the code in the block below\n",
        "# __________start of block__________\n",
        "import os\n",
        "import json\n",
        "assert os.path.exists('hw_mnist_data_dict.npy'), 'Please, download `hw_mnist_data_dict.npy` and place it in the working directory'\n",
        "\n",
        "def get_predictions(model, eval_data, step=10):\n",
        "\n",
        "    predicted_labels = []\n",
        "    model.eval()\n",
        "    with torch.no_grad():\n",
        "        for idx in range(0, len(eval_data), step):\n",
        "            y_predicted = model(eval_data[idx:idx+step].reshape(-1, 784))\n",
        "            predicted_labels.append(y_predicted.argmax(dim=1))\n",
        "\n",
        "    predicted_labels = torch.cat(predicted_labels).numpy()\n",
        "    predicted_labels = ','.join([str(x) for x in list(predicted_labels)])\n",
        "    return predicted_labels\n",
        "\n",
        "loaded_data_dict = np.load('hw_mnist_data_dict.npy', allow_pickle=True)\n",
        "\n",
        "submission_dict = {\n",
        "    'train': get_predictions(model, torch.FloatTensor(loaded_data_dict.item()['train'])),\n",
        "    'test': get_predictions(model, torch.FloatTensor(loaded_data_dict.item()['test']))\n",
        "}\n",
        "\n",
        "with open('submission_dict_mnist_task_1.json', 'w') as iofile:\n",
        "    json.dump(submission_dict, iofile)\n",
        "print('File saved to `submission_dict_mnist_task_1.json`')\n",
        "# __________end of block__________"
      ]
    },
    {
      "cell_type": "markdown",
      "metadata": {
        "id": "lGIekHIuwMJt"
      },
      "source": [
        "### Сдача задания\n",
        "Сдайте сгенерированный файл в соответствующую задачу в соревновании, а именно:\n",
        "    \n",
        "* `submission_dict_mnist_task_1.json` в задачу Warmup (hw_mnist)"
      ]
    },
    {
      "cell_type": "markdown",
      "metadata": {
        "id": "Mr-I9_FSwMJt"
      },
      "source": [
        "На этом задание завершено. Поздравляем!"
      ]
    }
  ],
  "metadata": {
    "kernelspec": {
      "display_name": "facelv_1.13+cu117",
      "language": "python",
      "name": "python3"
    },
    "language_info": {
      "codemirror_mode": {
        "name": "ipython",
        "version": 3
      },
      "file_extension": ".py",
      "mimetype": "text/x-python",
      "name": "python",
      "nbconvert_exporter": "python",
      "pygments_lexer": "ipython3",
      "version": "3.8.18"
    },
    "vscode": {
      "interpreter": {
        "hash": "21499ab2a6726e29f7050b76af0e9680227e613293d630ba279de7ebdfad9cae"
      }
    },
    "colab": {
      "provenance": []
    }
  },
  "nbformat": 4,
  "nbformat_minor": 0
}