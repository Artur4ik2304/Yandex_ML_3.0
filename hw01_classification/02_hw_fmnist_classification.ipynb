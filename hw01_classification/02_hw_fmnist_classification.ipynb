{
  "cells": [
    {
      "cell_type": "markdown",
      "metadata": {
        "id": "nDsVMGiVgSq2"
      },
      "source": [
        "## Классификация FashionMNIST\n",
        "\n",
        "##### Автор: [Радослав Нейчев](https://www.linkedin.com/in/radoslav-neychev/), https://t.me/s/girafe_ai"
      ]
    },
    {
      "cell_type": "code",
      "execution_count": 1,
      "metadata": {
        "id": "3isBRG6PgSq6"
      },
      "outputs": [],
      "source": [
        "# do not change the code in the block below\n",
        "# __________start of block__________\n",
        "import json\n",
        "import os\n",
        "import re\n",
        "\n",
        "import numpy as np\n",
        "import torch\n",
        "import torchvision\n",
        "from IPython.display import clear_output\n",
        "from matplotlib import pyplot as plt\n",
        "from torch import nn\n",
        "from torch.nn import functional as F\n",
        "from torchvision.datasets import FashionMNIST\n",
        "\n",
        "# __________end of block__________"
      ]
    },
    {
      "cell_type": "code",
      "execution_count": 2,
      "metadata": {
        "id": "tq-jL9-_zpAJ"
      },
      "outputs": [],
      "source": [
        "# do not change the code in the block below\n",
        "# __________start of block__________\n",
        "def get_predictions(model, eval_data, step=10):\n",
        "\n",
        "    predicted_labels = []\n",
        "    model.eval()\n",
        "    with torch.no_grad():\n",
        "        for idx in range(0, len(eval_data), step):\n",
        "            y_predicted = model(eval_data[idx : idx + step].to(device))\n",
        "            predicted_labels.append(y_predicted.argmax(dim=1).cpu())\n",
        "\n",
        "    predicted_labels = torch.cat(predicted_labels)\n",
        "    predicted_labels = \",\".join([str(x.item()) for x in list(predicted_labels)])\n",
        "    return predicted_labels\n",
        "\n",
        "\n",
        "def get_accuracy(model, data_loader):\n",
        "    predicted_labels = []\n",
        "    real_labels = []\n",
        "    model.eval()\n",
        "    with torch.no_grad():\n",
        "        for batch in data_loader:\n",
        "            y_predicted = model(batch[0].to(device))\n",
        "            predicted_labels.append(y_predicted.argmax(dim=1).cpu())\n",
        "            real_labels.append(batch[1])\n",
        "\n",
        "    predicted_labels = torch.cat(predicted_labels)\n",
        "    real_labels = torch.cat(real_labels)\n",
        "    accuracy_score = (predicted_labels == real_labels).type(torch.FloatTensor).mean()\n",
        "    return accuracy_score\n",
        "\n",
        "\n",
        "# __________end of block__________"
      ]
    },
    {
      "cell_type": "markdown",
      "metadata": {
        "id": "nJgl6TiWzpAK"
      },
      "source": [
        "Загрузите файл `hw_overfitting_data_dict.npy` (ссылка есть на странице с заданием), он понадобится для генерации посылок. Код ниже может его загрузить (но в случае возникновения ошибки скачайте и загрузите его вручную).\n"
      ]
    },
    {
      "cell_type": "code",
      "execution_count": 3,
      "metadata": {
        "id": "PuQP8VKEzpAK",
        "outputId": "4a58add7-4697-4634-9795-953bc95c688c",
        "colab": {
          "base_uri": "https://localhost:8080/"
        }
      },
      "outputs": [
        {
          "output_type": "stream",
          "name": "stdout",
          "text": [
            "--2025-04-12 11:43:38--  https://github.com/girafe-ai/ml-course/raw/24f_ysda/homeworks/hw_overfitting/hw_overfitting_data_dict\n",
            "Resolving github.com (github.com)... 20.205.243.166\n",
            "Connecting to github.com (github.com)|20.205.243.166|:443... connected.\n",
            "HTTP request sent, awaiting response... 302 Found\n",
            "Location: https://raw.githubusercontent.com/girafe-ai/ml-course/24f_ysda/homeworks/hw_overfitting/hw_overfitting_data_dict [following]\n",
            "--2025-04-12 11:43:39--  https://raw.githubusercontent.com/girafe-ai/ml-course/24f_ysda/homeworks/hw_overfitting/hw_overfitting_data_dict\n",
            "Resolving raw.githubusercontent.com (raw.githubusercontent.com)... 185.199.108.133, 185.199.109.133, 185.199.110.133, ...\n",
            "Connecting to raw.githubusercontent.com (raw.githubusercontent.com)|185.199.108.133|:443... connected.\n",
            "HTTP request sent, awaiting response... 200 OK\n",
            "Length: 6272446 (6.0M) [application/octet-stream]\n",
            "Saving to: ‘hw_overfitting_data_dict.npy’\n",
            "\n",
            "hw_overfitting_data 100%[===================>]   5.98M  --.-KB/s    in 0.02s   \n",
            "\n",
            "2025-04-12 11:43:39 (251 MB/s) - ‘hw_overfitting_data_dict.npy’ saved [6272446/6272446]\n",
            "\n"
          ]
        }
      ],
      "source": [
        "!wget https://github.com/girafe-ai/ml-course/raw/24f_ysda/homeworks/hw_overfitting/hw_overfitting_data_dict -O hw_overfitting_data_dict.npy"
      ]
    },
    {
      "cell_type": "code",
      "execution_count": 4,
      "metadata": {
        "id": "xkTAGiKdzpAK"
      },
      "outputs": [],
      "source": [
        "# do not change the code in the block below\n",
        "# __________start of block__________\n",
        "assert os.path.exists(\n",
        "    \"hw_overfitting_data_dict.npy\"\n",
        "), \"Please, download `hw_overfitting_data_dict.npy` and place it in the working directory\"\n",
        "\n",
        "# __________end of block__________"
      ]
    },
    {
      "cell_type": "markdown",
      "metadata": {
        "id": "zeA6Q5-CgSq7"
      },
      "source": [
        "Вернемся к задаче распознавания простых изображений, рассмотренной ранее. Но теперь будем работать с набором данных [FashionMNIST](https://github.com/zalandoresearch/fashion-mnist). В данном задании воспользуемся всем датасетом целиком.\n",
        "\n",
        "__Ваша первая задача: реализовать весь пайплан обучения модели и добиться качества $\\geq 88.5\\%$ на тестовой выборке.__\n",
        "\n",
        "Код для обучения модели в данном задании отсутствует. Присутствует лишь несколько тестов, которые помогут вам отладить свое решение. За примером можно обратиться к ноутбукам с предыдущих занятий."
      ]
    },
    {
      "cell_type": "code",
      "execution_count": 5,
      "metadata": {
        "id": "MjOdsX0lzpAL"
      },
      "outputs": [],
      "source": [
        "CUDA_DEVICE_ID = 0  # change if needed"
      ]
    },
    {
      "cell_type": "code",
      "execution_count": 6,
      "metadata": {
        "id": "nPG1KbQAgl8b"
      },
      "outputs": [],
      "source": [
        "# do not change the code in the block below\n",
        "# __________start of block__________\n",
        "device = (\n",
        "    torch.device(f\"cuda:{CUDA_DEVICE_ID}\") if torch.cuda.is_available() else torch.device(\"cpu\")\n",
        ")\n",
        "# __________end of block__________"
      ]
    },
    {
      "cell_type": "code",
      "execution_count": 7,
      "metadata": {
        "colab": {
          "base_uri": "https://localhost:8080/",
          "height": 537
        },
        "id": "aYcL28OsgSq8",
        "outputId": "a838cf75-fcad-405d-8b43-72c1256fa63c"
      },
      "outputs": [
        {
          "output_type": "stream",
          "name": "stderr",
          "text": [
            "100%|██████████| 26.4M/26.4M [00:02<00:00, 9.28MB/s]\n",
            "100%|██████████| 29.5k/29.5k [00:00<00:00, 172kB/s]\n",
            "100%|██████████| 4.42M/4.42M [00:01<00:00, 3.12MB/s]\n",
            "100%|██████████| 5.15k/5.15k [00:00<00:00, 10.9MB/s]\n"
          ]
        },
        {
          "output_type": "execute_result",
          "data": {
            "text/plain": [
              "Text(0.5, 1.0, 'Image label: 4')"
            ]
          },
          "metadata": {},
          "execution_count": 7
        },
        {
          "output_type": "display_data",
          "data": {
            "text/plain": [
              "<Figure size 640x480 with 1 Axes>"
            ],
            "image/png": "[encoded data removed]"
          },
          "metadata": {}
        }
      ],
      "source": [
        "# do not change the code in the block below\n",
        "# __________start of block__________\n",
        "\n",
        "train_fmnist_data = FashionMNIST(\n",
        "    \".\", train=True, transform=torchvision.transforms.ToTensor(), download=True\n",
        ")\n",
        "test_fmnist_data = FashionMNIST(\n",
        "    \".\", train=False, transform=torchvision.transforms.ToTensor(), download=True\n",
        ")\n",
        "\n",
        "\n",
        "train_data_loader = torch.utils.data.DataLoader(\n",
        "    train_fmnist_data, batch_size=32, shuffle=True, num_workers=2\n",
        ")\n",
        "\n",
        "test_data_loader = torch.utils.data.DataLoader(\n",
        "    test_fmnist_data, batch_size=32, shuffle=False, num_workers=2\n",
        ")\n",
        "\n",
        "random_batch = next(iter(train_data_loader))\n",
        "_image, _label = random_batch[0][0], random_batch[1][0]\n",
        "plt.figure()\n",
        "plt.imshow(_image.reshape(28, 28))\n",
        "plt.title(f\"Image label: {_label}\")\n",
        "# __________end of block__________"
      ]
    },
    {
      "cell_type": "markdown",
      "metadata": {
        "id": "S6jWRv1rgSq8"
      },
      "source": [
        "Постройте модель ниже. Пожалуйста, не стройте переусложненную сеть, не стоит делать ее глубже четырех слоев (можно и меньше). Ваша основная задача – обучить модель и получить качество на отложенной (тестовой выборке) не менее 88.5% accuracy.\n",
        "\n",
        "__Внимание, ваша модель должна быть представлена именно переменной `model_task_1`. На вход ей должен приходить тензор размерностью (1, 28, 28).__"
      ]
    },
    {
      "cell_type": "code",
      "execution_count": 8,
      "metadata": {
        "id": "BcyEFX-RgSq8"
      },
      "outputs": [],
      "source": [
        "# Creating model instance\n",
        "class MyCNN(nn.Module):\n",
        "  def __init__(self):\n",
        "    super().__init__()\n",
        "    self.conv1 = nn.Conv2d(1, 5, 3)\n",
        "    self.conv2 = nn.Conv2d(5, 10, 3)\n",
        "    self.pool = nn.MaxPool2d(2, 2)\n",
        "    self.m = nn.Flatten()\n",
        "    self.fc1 = nn.Linear(10 * 5 * 5, 500)\n",
        "    self.fc2 = nn.Linear(500, 10)\n",
        "  def forward(self, x):\n",
        "    x = x.view(-1, 1, 28, 28)\n",
        "    x = self.pool(F.relu(self.conv1(x)))\n",
        "    x = self.pool(F.relu(self.conv2(x)))\n",
        "    x = self.m(x)\n",
        "    x = F.relu(self.fc1(x))\n",
        "    x = self.fc2(x)\n",
        "    return x\n",
        "model_task_1 = MyCNN()\n",
        "# your code here"
      ]
    },
    {
      "cell_type": "markdown",
      "metadata": {
        "id": "bAoLV4dkoy5M"
      },
      "source": [
        "Не забудьте перенести модель на выбранный `device`!"
      ]
    },
    {
      "cell_type": "code",
      "execution_count": 9,
      "metadata": {
        "id": "Xas9SIXDoxvZ",
        "outputId": "9af55c23-2572-410d-ea91-5f62f51dcb0f",
        "colab": {
          "base_uri": "https://localhost:8080/"
        }
      },
      "outputs": [
        {
          "output_type": "execute_result",
          "data": {
            "text/plain": [
              "MyCNN(\n",
              "  (conv1): Conv2d(1, 5, kernel_size=(3, 3), stride=(1, 1))\n",
              "  (conv2): Conv2d(5, 10, kernel_size=(3, 3), stride=(1, 1))\n",
              "  (pool): MaxPool2d(kernel_size=2, stride=2, padding=0, dilation=1, ceil_mode=False)\n",
              "  (m): Flatten(start_dim=1, end_dim=-1)\n",
              "  (fc1): Linear(in_features=250, out_features=500, bias=True)\n",
              "  (fc2): Linear(in_features=500, out_features=10, bias=True)\n",
              ")"
            ]
          },
          "metadata": {},
          "execution_count": 9
        }
      ],
      "source": [
        "model_task_1.to(device)"
      ]
    },
    {
      "cell_type": "markdown",
      "metadata": {
        "id": "6pLRWysggSq9"
      },
      "source": [
        "Локальные тесты для проверки вашей модели доступны ниже:"
      ]
    },
    {
      "cell_type": "code",
      "execution_count": 10,
      "metadata": {
        "colab": {
          "base_uri": "https://localhost:8080/"
        },
        "id": "_qMQzo1ggSq9",
        "outputId": "00471c6a-8026-4665-93b4-5026b84c51bb"
      },
      "outputs": [
        {
          "output_type": "stream",
          "name": "stdout",
          "text": [
            "Everything seems fine!\n"
          ]
        }
      ],
      "source": [
        "# do not change the code in the block below\n",
        "# __________start of block__________\n",
        "assert model_task_1 is not None, \"Please, use `model_task_1` variable to store your model\"\n",
        "\n",
        "try:\n",
        "    x = random_batch[0].to(device)\n",
        "    y = random_batch[1].to(device)\n",
        "\n",
        "    # compute outputs given inputs, both are variables\n",
        "    y_predicted = model_task_1(x)\n",
        "except Exception as e:\n",
        "    print(\"Something is wrong with the model\")\n",
        "    raise e\n",
        "\n",
        "\n",
        "assert y_predicted.shape[-1] == 10, \"Model should predict 10 logits/probas\"\n",
        "\n",
        "print(\"Everything seems fine!\")\n",
        "# __________end of block__________"
      ]
    },
    {
      "cell_type": "markdown",
      "metadata": {
        "id": "suRmIPwIgSq9"
      },
      "source": [
        "Настройте параметры модели на обучающей выборке. Также рекомендуем поработать с `learning rate`."
      ]
    },
    {
      "cell_type": "code",
      "execution_count": 21,
      "metadata": {
        "id": "YJnU14bdnZa_"
      },
      "outputs": [],
      "source": [
        "# your code here\n",
        "loss_fn = torch.nn.CrossEntropyLoss()\n",
        "optimizer = torch.optim.Adam(model_task_1.parameters(), lr=0.001)"
      ]
    },
    {
      "cell_type": "code",
      "source": [
        "total_step = len(train_data_loader)\n",
        "loss_list = []\n",
        "acc_list = []\n",
        "for epoch in range(5):\n",
        "    for i, (images, labels) in enumerate(train_data_loader):\n",
        "        # Прямой запуск\n",
        "        images = images.to(device)\n",
        "        labels = labels.to(device)\n",
        "        outputs = model_task_1(images)\n",
        "        loss = loss_fn(outputs, labels)\n",
        "        loss_list.append(loss.item())\n",
        "\n",
        "        # Обратное распространение и оптимизатор\n",
        "        optimizer.zero_grad()\n",
        "        loss.backward()\n",
        "        optimizer.step()\n",
        "\n",
        "        # Отслеживание точности\n",
        "        total = labels.size(0)\n",
        "        _, predicted = torch.max(outputs.data, 1)\n",
        "        correct = (predicted == labels).sum().item()\n",
        "        acc_list.append(correct / total)\n",
        "\n",
        "        if (i + 1) % 100 == 0:\n",
        "            print('Epoch [{}/{}], Step [{}/{}], Loss: {:.4f}, Accuracy: {:.2f}%'\n",
        "                  .format(epoch + 1, 5, i + 1, total_step, loss.item(),\n",
        "                          (correct / total) * 100))"
      ],
      "metadata": {
        "id": "vebjmaiM0pmh",
        "outputId": "d5056549-d4c7-49ff-c74d-e1d5d8b15900",
        "colab": {
          "base_uri": "https://localhost:8080/"
        }
      },
      "execution_count": 22,
      "outputs": [
        {
          "output_type": "stream",
          "name": "stdout",
          "text": [
            "Epoch [1/5], Step [100/1875], Loss: 0.5789, Accuracy: 81.25%\n",
            "Epoch [1/5], Step [200/1875], Loss: 0.4109, Accuracy: 81.25%\n",
            "Epoch [1/5], Step [300/1875], Loss: 0.6518, Accuracy: 71.88%\n",
            "Epoch [1/5], Step [400/1875], Loss: 0.5852, Accuracy: 84.38%\n",
            "Epoch [1/5], Step [500/1875], Loss: 0.5554, Accuracy: 84.38%\n",
            "Epoch [1/5], Step [600/1875], Loss: 0.3014, Accuracy: 90.62%\n",
            "Epoch [1/5], Step [700/1875], Loss: 0.3586, Accuracy: 90.62%\n",
            "Epoch [1/5], Step [800/1875], Loss: 0.3822, Accuracy: 78.12%\n",
            "Epoch [1/5], Step [900/1875], Loss: 0.6036, Accuracy: 84.38%\n",
            "Epoch [1/5], Step [1000/1875], Loss: 0.4348, Accuracy: 81.25%\n",
            "Epoch [1/5], Step [1100/1875], Loss: 0.5373, Accuracy: 84.38%\n",
            "Epoch [1/5], Step [1200/1875], Loss: 0.3498, Accuracy: 84.38%\n",
            "Epoch [1/5], Step [1300/1875], Loss: 0.3514, Accuracy: 84.38%\n",
            "Epoch [1/5], Step [1400/1875], Loss: 0.5539, Accuracy: 78.12%\n",
            "Epoch [1/5], Step [1500/1875], Loss: 0.2643, Accuracy: 84.38%\n",
            "Epoch [1/5], Step [1600/1875], Loss: 0.2493, Accuracy: 87.50%\n",
            "Epoch [1/5], Step [1700/1875], Loss: 0.8512, Accuracy: 65.62%\n",
            "Epoch [1/5], Step [1800/1875], Loss: 0.3666, Accuracy: 84.38%\n",
            "Epoch [2/5], Step [100/1875], Loss: 0.2857, Accuracy: 90.62%\n",
            "Epoch [2/5], Step [200/1875], Loss: 0.2590, Accuracy: 90.62%\n",
            "Epoch [2/5], Step [300/1875], Loss: 0.3840, Accuracy: 84.38%\n",
            "Epoch [2/5], Step [400/1875], Loss: 0.3473, Accuracy: 84.38%\n",
            "Epoch [2/5], Step [500/1875], Loss: 0.5403, Accuracy: 75.00%\n",
            "Epoch [2/5], Step [600/1875], Loss: 0.2962, Accuracy: 87.50%\n",
            "Epoch [2/5], Step [700/1875], Loss: 0.2320, Accuracy: 87.50%\n",
            "Epoch [2/5], Step [800/1875], Loss: 0.1898, Accuracy: 96.88%\n",
            "Epoch [2/5], Step [900/1875], Loss: 0.6126, Accuracy: 78.12%\n",
            "Epoch [2/5], Step [1000/1875], Loss: 0.4152, Accuracy: 87.50%\n",
            "Epoch [2/5], Step [1100/1875], Loss: 0.1116, Accuracy: 100.00%\n",
            "Epoch [2/5], Step [1200/1875], Loss: 0.3869, Accuracy: 84.38%\n",
            "Epoch [2/5], Step [1300/1875], Loss: 0.4745, Accuracy: 84.38%\n",
            "Epoch [2/5], Step [1400/1875], Loss: 0.3373, Accuracy: 93.75%\n",
            "Epoch [2/5], Step [1500/1875], Loss: 0.1704, Accuracy: 90.62%\n",
            "Epoch [2/5], Step [1600/1875], Loss: 0.1649, Accuracy: 96.88%\n",
            "Epoch [2/5], Step [1700/1875], Loss: 0.2330, Accuracy: 90.62%\n",
            "Epoch [2/5], Step [1800/1875], Loss: 0.4140, Accuracy: 84.38%\n",
            "Epoch [3/5], Step [100/1875], Loss: 0.2317, Accuracy: 90.62%\n",
            "Epoch [3/5], Step [200/1875], Loss: 0.3015, Accuracy: 84.38%\n",
            "Epoch [3/5], Step [300/1875], Loss: 0.3749, Accuracy: 81.25%\n",
            "Epoch [3/5], Step [400/1875], Loss: 0.4682, Accuracy: 81.25%\n",
            "Epoch [3/5], Step [500/1875], Loss: 0.4298, Accuracy: 81.25%\n",
            "Epoch [3/5], Step [600/1875], Loss: 0.2614, Accuracy: 90.62%\n",
            "Epoch [3/5], Step [700/1875], Loss: 0.1453, Accuracy: 93.75%\n",
            "Epoch [3/5], Step [800/1875], Loss: 0.3539, Accuracy: 87.50%\n",
            "Epoch [3/5], Step [900/1875], Loss: 0.1473, Accuracy: 93.75%\n",
            "Epoch [3/5], Step [1000/1875], Loss: 0.3036, Accuracy: 90.62%\n",
            "Epoch [3/5], Step [1100/1875], Loss: 0.2672, Accuracy: 93.75%\n",
            "Epoch [3/5], Step [1200/1875], Loss: 0.6062, Accuracy: 78.12%\n",
            "Epoch [3/5], Step [1300/1875], Loss: 0.3624, Accuracy: 87.50%\n",
            "Epoch [3/5], Step [1400/1875], Loss: 0.2042, Accuracy: 93.75%\n",
            "Epoch [3/5], Step [1500/1875], Loss: 0.3961, Accuracy: 87.50%\n",
            "Epoch [3/5], Step [1600/1875], Loss: 0.2143, Accuracy: 93.75%\n",
            "Epoch [3/5], Step [1700/1875], Loss: 0.3419, Accuracy: 87.50%\n",
            "Epoch [3/5], Step [1800/1875], Loss: 0.2223, Accuracy: 90.62%\n",
            "Epoch [4/5], Step [100/1875], Loss: 0.4450, Accuracy: 84.38%\n",
            "Epoch [4/5], Step [200/1875], Loss: 0.2022, Accuracy: 93.75%\n",
            "Epoch [4/5], Step [300/1875], Loss: 0.1891, Accuracy: 96.88%\n",
            "Epoch [4/5], Step [400/1875], Loss: 0.4033, Accuracy: 84.38%\n",
            "Epoch [4/5], Step [500/1875], Loss: 0.4503, Accuracy: 87.50%\n",
            "Epoch [4/5], Step [600/1875], Loss: 0.3744, Accuracy: 78.12%\n",
            "Epoch [4/5], Step [700/1875], Loss: 0.2048, Accuracy: 96.88%\n",
            "Epoch [4/5], Step [800/1875], Loss: 0.5363, Accuracy: 71.88%\n",
            "Epoch [4/5], Step [900/1875], Loss: 0.2217, Accuracy: 96.88%\n",
            "Epoch [4/5], Step [1000/1875], Loss: 0.0786, Accuracy: 100.00%\n",
            "Epoch [4/5], Step [1100/1875], Loss: 0.2130, Accuracy: 84.38%\n",
            "Epoch [4/5], Step [1200/1875], Loss: 0.1203, Accuracy: 96.88%\n",
            "Epoch [4/5], Step [1300/1875], Loss: 0.2591, Accuracy: 84.38%\n",
            "Epoch [4/5], Step [1400/1875], Loss: 0.1891, Accuracy: 93.75%\n",
            "Epoch [4/5], Step [1500/1875], Loss: 0.3670, Accuracy: 87.50%\n",
            "Epoch [4/5], Step [1600/1875], Loss: 0.2876, Accuracy: 87.50%\n",
            "Epoch [4/5], Step [1700/1875], Loss: 0.2565, Accuracy: 84.38%\n",
            "Epoch [4/5], Step [1800/1875], Loss: 0.3895, Accuracy: 90.62%\n",
            "Epoch [5/5], Step [100/1875], Loss: 0.1048, Accuracy: 96.88%\n",
            "Epoch [5/5], Step [200/1875], Loss: 0.1409, Accuracy: 96.88%\n",
            "Epoch [5/5], Step [300/1875], Loss: 0.2268, Accuracy: 87.50%\n",
            "Epoch [5/5], Step [400/1875], Loss: 0.2095, Accuracy: 90.62%\n",
            "Epoch [5/5], Step [500/1875], Loss: 0.0806, Accuracy: 100.00%\n",
            "Epoch [5/5], Step [600/1875], Loss: 0.2941, Accuracy: 84.38%\n",
            "Epoch [5/5], Step [700/1875], Loss: 0.2476, Accuracy: 87.50%\n",
            "Epoch [5/5], Step [800/1875], Loss: 0.1728, Accuracy: 93.75%\n",
            "Epoch [5/5], Step [900/1875], Loss: 0.4022, Accuracy: 87.50%\n",
            "Epoch [5/5], Step [1000/1875], Loss: 0.7599, Accuracy: 78.12%\n",
            "Epoch [5/5], Step [1100/1875], Loss: 0.1427, Accuracy: 93.75%\n",
            "Epoch [5/5], Step [1200/1875], Loss: 0.2390, Accuracy: 87.50%\n",
            "Epoch [5/5], Step [1300/1875], Loss: 0.2441, Accuracy: 90.62%\n",
            "Epoch [5/5], Step [1400/1875], Loss: 0.1641, Accuracy: 93.75%\n",
            "Epoch [5/5], Step [1500/1875], Loss: 0.4010, Accuracy: 87.50%\n",
            "Epoch [5/5], Step [1600/1875], Loss: 0.3520, Accuracy: 90.62%\n",
            "Epoch [5/5], Step [1700/1875], Loss: 0.4498, Accuracy: 84.38%\n",
            "Epoch [5/5], Step [1800/1875], Loss: 0.3014, Accuracy: 90.62%\n"
          ]
        }
      ]
    },
    {
      "cell_type": "markdown",
      "metadata": {
        "id": "2zce7gt1gSq-"
      },
      "source": [
        "Также, напоминаем, что в любой момент можно обратиться к замечательной [документации](https://pytorch.org/docs/stable/index.html) и [обучающим примерам](https://pytorch.org/tutorials/).  "
      ]
    },
    {
      "cell_type": "markdown",
      "metadata": {
        "id": "usswrWYOgSq-"
      },
      "source": [
        "Оценим качество классификации:"
      ]
    },
    {
      "cell_type": "code",
      "execution_count": 23,
      "metadata": {
        "id": "Xua3TVZHgSq-",
        "outputId": "d63d269b-f278-40e9-8544-04bff66a0224",
        "colab": {
          "base_uri": "https://localhost:8080/"
        }
      },
      "outputs": [
        {
          "output_type": "stream",
          "name": "stdout",
          "text": [
            "Neural network accuracy on train set: 0.91005\n"
          ]
        }
      ],
      "source": [
        "train_acc_task_1 = get_accuracy(model_task_1, train_data_loader)\n",
        "print(f\"Neural network accuracy on train set: {train_acc_task_1:3.5}\")"
      ]
    },
    {
      "cell_type": "code",
      "execution_count": 24,
      "metadata": {
        "id": "l9KEKXBxgSq-",
        "outputId": "ea3db9bd-098b-4495-dc6d-898d7de5952c",
        "colab": {
          "base_uri": "https://localhost:8080/"
        }
      },
      "outputs": [
        {
          "output_type": "stream",
          "name": "stdout",
          "text": [
            "Neural network accuracy on test set: 0.8871\n"
          ]
        }
      ],
      "source": [
        "test_acc_task_1 = get_accuracy(model_task_1, test_data_loader)\n",
        "print(f\"Neural network accuracy on test set: {test_acc_task_1:3.5}\")"
      ]
    },
    {
      "cell_type": "markdown",
      "metadata": {
        "id": "4oyhmMobgSq_"
      },
      "source": [
        "Проверка, что необходимые пороги пройдены:"
      ]
    },
    {
      "cell_type": "code",
      "execution_count": 25,
      "metadata": {
        "id": "OAIrURCEgSq_"
      },
      "outputs": [],
      "source": [
        "assert test_acc_task_1 >= 0.885, \"Train accuracy is below 0.885 threshold\"\n",
        "assert (\n",
        "    train_acc_task_1 >= 0.905\n",
        "), \"Train accuracy is below 0.905 while test accuracy is fine. We recommend to check your model and data flow\""
      ]
    },
    {
      "cell_type": "markdown",
      "metadata": {
        "id": "ZPfGLYkYzpAO"
      },
      "source": [
        "Обращаем внимане, код ниже предполагает, что ваша модель имеет содержится в переменной `model_task_1`, а файл `hw_fmnist_data_dict.npy` находится в той же директории, что и ноутбук (он доступен в репозитории)."
      ]
    },
    {
      "cell_type": "code",
      "execution_count": 27,
      "metadata": {
        "id": "M_DMqDnvzpAO",
        "outputId": "fce51a71-f331-4ae5-cb7b-69d3d230eaa4",
        "colab": {
          "base_uri": "https://localhost:8080/"
        }
      },
      "outputs": [
        {
          "output_type": "stream",
          "name": "stdout",
          "text": [
            "File saved to `submission_dict_fmnist_task_1.json`\n"
          ]
        }
      ],
      "source": [
        "# do not change the code in the block below\n",
        "# __________start of block__________\n",
        "assert os.path.exists(\n",
        "    \"hw_fmnist_data_dict.npy\"\n",
        "), \"Please, download `hw_fmnist_data_dict.npy` and place it in the working directory\"\n",
        "\n",
        "loaded_data_dict = np.load(\"hw_fmnist_data_dict.npy\", allow_pickle=True)\n",
        "\n",
        "submission_dict = {\n",
        "    \"train_predictions_task_1\": get_predictions(\n",
        "        model_task_1, torch.FloatTensor(loaded_data_dict.item()[\"train\"])\n",
        "    ),\n",
        "    \"test_predictions_task_1\": get_predictions(\n",
        "        model_task_1, torch.FloatTensor(loaded_data_dict.item()[\"test\"])\n",
        "    ),\n",
        "}\n",
        "\n",
        "with open(\"submission_dict_fmnist_task_1.json\", \"w\") as iofile:\n",
        "    json.dump(submission_dict, iofile)\n",
        "print(\"File saved to `submission_dict_fmnist_task_1.json`\")\n",
        "# __________end of block__________"
      ]
    },
    {
      "cell_type": "markdown",
      "metadata": {
        "id": "g0xWRUcizpAP"
      },
      "source": [
        "### Сдача задания\n",
        "Сдайте сгенерированный файл в соответствующую задачу в соревновании, а именно:\n",
        "    \n",
        "* `submission_dict_fmnist_task_1.json` в задачу Separation"
      ]
    },
    {
      "cell_type": "markdown",
      "metadata": {
        "id": "OtWnYAN_gSrA"
      },
      "source": [
        "На этом задание завершено. Поздравляем!"
      ]
    }
  ],
  "metadata": {
    "accelerator": "GPU",
    "colab": {
      "gpuType": "T4",
      "provenance": []
    },
    "kernelspec": {
      "display_name": "Python 3 (ipykernel)",
      "language": "python",
      "name": "python3"
    },
    "language_info": {
      "codemirror_mode": {
        "name": "ipython",
        "version": 3
      },
      "file_extension": ".py",
      "mimetype": "text/x-python",
      "name": "python",
      "nbconvert_exporter": "python",
      "pygments_lexer": "ipython3",
      "version": "3.8.19"
    },
    "toc": {
      "base_numbering": 1,
      "nav_menu": {},
      "number_sections": true,
      "sideBar": true,
      "skip_h1_title": false,
      "title_cell": "Table of Contents",
      "title_sidebar": "Contents",
      "toc_cell": false,
      "toc_position": {},
      "toc_section_display": true,
      "toc_window_display": false
    },
    "vscode": {
      "interpreter": {
        "hash": "21499ab2a6726e29f7050b76af0e9680227e613293d630ba279de7ebdfad9cae"
      }
    }
  },
  "nbformat": 4,
  "nbformat_minor": 0
}