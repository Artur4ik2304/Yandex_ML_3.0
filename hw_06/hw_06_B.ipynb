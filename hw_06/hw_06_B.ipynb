{
 "cells": [
  {
   "cell_type": "code",
   "execution_count": 9,
   "id": "fd0db1ad",
   "metadata": {},
   "outputs": [
    {
     "name": "stderr",
     "output_type": "stream",
     "text": [
      "Donwload imgs: 100%|██████████| 9605/9605 [00:26<00:00, 361.93it/s]\n",
      "/Users/arturkuzminskij/anaconda3/lib/python3.10/site-packages/torchvision/models/_utils.py:208: UserWarning: The parameter 'pretrained' is deprecated since 0.13 and will be removed in 0.15, please use 'weights' instead.\n",
      "  warnings.warn(\n",
      "/Users/arturkuzminskij/anaconda3/lib/python3.10/site-packages/torchvision/models/_utils.py:223: UserWarning: Arguments other than a weight enum or `None` for 'weights' are deprecated since 0.13 and will be removed in 0.15. The current behavior is equivalent to passing `weights=ResNet101_Weights.IMAGENET1K_V1`. You can also use `weights=ResNet101_Weights.DEFAULT` to get the most up-to-date weights.\n",
      "  warnings.warn(msg)\n"
     ]
    },
    {
     "name": "stdout",
     "output_type": "stream",
     "text": [
      "Загружено изображений: 9605\n"
     ]
    },
    {
     "name": "stderr",
     "output_type": "stream",
     "text": [
      "Downloading: \"https://download.pytorch.org/models/resnet101-63fe2227.pth\" to /Users/arturkuzminskij/.cache/torch/hub/checkpoints/resnet101-63fe2227.pth\n",
      "100%|██████████| 171M/171M [00:15<00:00, 11.4MB/s] \n",
      "Embeddings: 100%|██████████| 9605/9605 [29:32<00:00,  5.42it/s]  \n",
      "Pairs: 9605it [00:05, 1898.95it/s]"
     ]
    },
    {
     "name": "stdout",
     "output_type": "stream",
     "text": [
      "Результаты сохранены в submission.csv\n"
     ]
    },
    {
     "name": "stderr",
     "output_type": "stream",
     "text": [
      "\n"
     ]
    }
   ],
   "source": [
    "import os\n",
    "import numpy as np\n",
    "import pandas as pd\n",
    "from PIL import Image\n",
    "import torch\n",
    "import torchvision.models as models\n",
    "from torchvision import transforms\n",
    "from sklearn.metrics.pairwise import cosine_similarity\n",
    "\n",
    "# --- 1. Загрузка изображений ---\n",
    "def load_images(folder_path, img_size=(224, 224)):\n",
    "    images = {}\n",
    "    for filename in tqdm(os.listdir(folder_path), 'Donwload imgs'):\n",
    "        if filename.lower().endswith(('.png', '.jpg', '.jpeg')):\n",
    "            try:\n",
    "                img = Image.open(os.path.join(folder_path, filename)).convert('RGB')\n",
    "                img = img.resize(img_size)\n",
    "                images[filename] = img\n",
    "            except Exception as e:\n",
    "                print(f\"Ошибка загрузки {filename}: {e}\")\n",
    "    return images\n",
    "\n",
    "# --- 2. Извлечение признаков (ResNet50) ---\n",
    "def get_embeddings(images):\n",
    "    model = models.resnet101(pretrained=True)\n",
    "    model = torch.nn.Sequential(*(list(model.children())[:-1]))  # Удаляем последний слой\n",
    "    model.eval()\n",
    "    \n",
    "    transform = transforms.Compose([\n",
    "        transforms.ToTensor(),\n",
    "        transforms.Normalize(mean=[0.485, 0.456, 0.406], std=[0.229, 0.224, 0.225]),\n",
    "    ])\n",
    "    \n",
    "    embeddings = {}\n",
    "    with torch.no_grad():\n",
    "        for filename, img in tqdm(images.items(), 'Embeddings'):\n",
    "            img_tensor = transform(img).unsqueeze(0)\n",
    "            embedding = model(img_tensor).squeeze().numpy()\n",
    "            embeddings[filename] = embedding\n",
    "    return embeddings\n",
    "\n",
    "# --- 3. Поиск похожих изображений (через Sklearn) ---\n",
    "def find_similar_images(embeddings, top_k=6):\n",
    "    filenames = list(embeddings.keys())\n",
    "    emb_matrix = np.array([embeddings[fn] for fn in filenames])\n",
    "    \n",
    "    # Нормализация для косинусной схожести\n",
    "    emb_matrix = emb_matrix / np.linalg.norm(emb_matrix, axis=1, keepdims=True)\n",
    "    \n",
    "    # Матрица попарных схожестей\n",
    "    sim_matrix = cosine_similarity(emb_matrix)\n",
    "    \n",
    "    results = {}\n",
    "    for i, query_fn in tqdm(enumerate(filenames), 'Pairs'):\n",
    "        sim_scores = sim_matrix[i]\n",
    "        sim_scores[i] = -1  # Исключаем текущий файл\n",
    "        top_indices = np.argsort(sim_scores)[-top_k:][::-1]  # Топ-6 похожих\n",
    "        results[query_fn] = ' '.join([filenames[idx] for idx in top_indices])\n",
    "    return results\n",
    "\n",
    "# --- 4. Сохранение результатов ---\n",
    "def save_to_csv(results, output_file='submission.csv'):\n",
    "    df = pd.DataFrame({\n",
    "        'filename': results.keys(),\n",
    "        'ranking': results.values()\n",
    "    })\n",
    "    df.to_csv(output_file, index=False)\n",
    "    print(f\"Результаты сохранены в {output_file}\")\n",
    "\n",
    "\n",
    "folder_path = \"dataset/\"  # Укажите путь к папке\n",
    "images = load_images(folder_path)\n",
    "print(f\"Загружено изображений: {len(images)}\")\n",
    "    \n",
    "embeddings = get_embeddings(images)\n",
    "results = find_similar_images(embeddings)\n",
    "save_to_csv(results)"
   ]
  },
  {
   "cell_type": "code",
   "execution_count": null,
   "id": "e73b0bf7",
   "metadata": {},
   "outputs": [],
   "source": []
  }
 ],
 "metadata": {
  "kernelspec": {
   "display_name": "Python 3 (ipykernel)",
   "language": "python",
   "name": "python3"
  },
  "language_info": {
   "codemirror_mode": {
    "name": "ipython",
    "version": 3
   },
   "file_extension": ".py",
   "mimetype": "text/x-python",
   "name": "python",
   "nbconvert_exporter": "python",
   "pygments_lexer": "ipython3",
   "version": "3.10.9"
  }
 },
 "nbformat": 4,
 "nbformat_minor": 5
}
